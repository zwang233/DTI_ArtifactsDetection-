{
  "nbformat": 4,
  "nbformat_minor": 0,
  "metadata": {
    "colab": {
      "name": "DTI_SVM.ipynb",
      "provenance": [],
      "machine_shape": "hm",
      "collapsed_sections": [],
      "toc_visible": true
    },
    "kernelspec": {
      "name": "python3",
      "display_name": "Python 3"
    },
    "language_info": {
      "name": "python"
    },
    "accelerator": "GPU"
  },
  "cells": [
    {
      "cell_type": "markdown",
      "source": [
        "# Install packages\n"
      ],
      "metadata": {
        "id": "rGnHDLkqh9_K"
      }
    },
    {
      "cell_type": "code",
      "execution_count": null,
      "metadata": {
        "id": "QMSNUmjpXVyk",
        "colab": {
          "base_uri": "https://localhost:8080/"
        },
        "outputId": "7637a77e-519e-404f-a5ca-e55afc39f200"
      },
      "outputs": [
        {
          "output_type": "stream",
          "name": "stdout",
          "text": [
            "Collecting nilearn\n",
            "  Downloading nilearn-0.9.0-py3-none-any.whl (10.1 MB)\n",
            "\u001b[K     |████████████████████████████████| 10.1 MB 7.0 MB/s \n",
            "\u001b[?25hRequirement already satisfied: requests>=2 in /usr/local/lib/python3.7/dist-packages (from nilearn) (2.23.0)\n",
            "Requirement already satisfied: scipy>=1.2 in /usr/local/lib/python3.7/dist-packages (from nilearn) (1.4.1)\n",
            "Requirement already satisfied: joblib>=0.12 in /usr/local/lib/python3.7/dist-packages (from nilearn) (1.1.0)\n",
            "Requirement already satisfied: numpy>=1.16 in /usr/local/lib/python3.7/dist-packages (from nilearn) (1.21.5)\n",
            "Requirement already satisfied: pandas>=0.24.0 in /usr/local/lib/python3.7/dist-packages (from nilearn) (1.3.5)\n",
            "Requirement already satisfied: nibabel>=2.5 in /usr/local/lib/python3.7/dist-packages (from nilearn) (3.0.2)\n",
            "Requirement already satisfied: scikit-learn>=0.21 in /usr/local/lib/python3.7/dist-packages (from nilearn) (1.0.2)\n",
            "Requirement already satisfied: python-dateutil>=2.7.3 in /usr/local/lib/python3.7/dist-packages (from pandas>=0.24.0->nilearn) (2.8.2)\n",
            "Requirement already satisfied: pytz>=2017.3 in /usr/local/lib/python3.7/dist-packages (from pandas>=0.24.0->nilearn) (2018.9)\n",
            "Requirement already satisfied: six>=1.5 in /usr/local/lib/python3.7/dist-packages (from python-dateutil>=2.7.3->pandas>=0.24.0->nilearn) (1.15.0)\n",
            "Requirement already satisfied: idna<3,>=2.5 in /usr/local/lib/python3.7/dist-packages (from requests>=2->nilearn) (2.10)\n",
            "Requirement already satisfied: chardet<4,>=3.0.2 in /usr/local/lib/python3.7/dist-packages (from requests>=2->nilearn) (3.0.4)\n",
            "Requirement already satisfied: urllib3!=1.25.0,!=1.25.1,<1.26,>=1.21.1 in /usr/local/lib/python3.7/dist-packages (from requests>=2->nilearn) (1.24.3)\n",
            "Requirement already satisfied: certifi>=2017.4.17 in /usr/local/lib/python3.7/dist-packages (from requests>=2->nilearn) (2021.10.8)\n",
            "Requirement already satisfied: threadpoolctl>=2.0.0 in /usr/local/lib/python3.7/dist-packages (from scikit-learn>=0.21->nilearn) (3.1.0)\n",
            "Installing collected packages: nilearn\n",
            "Successfully installed nilearn-0.9.0\n"
          ]
        }
      ],
      "source": [
        "!pip install nilearn\n",
        "# Import packages\n",
        "import nilearn\n",
        "from nilearn import image\n",
        "import numpy as np\n",
        "from scipy.ndimage import zoom\n",
        "from sklearn.model_selection import train_test_split\n",
        "from sklearn.preprocessing import normalize\n",
        "import tensorflow as tf\n",
        "# from tensorflow.keras import regularizers\n",
        "from collections import Counter\n",
        "import matplotlib.pyplot as plt #import a module\n",
        "from matplotlib.ticker import PercentFormatter #PercentFormatter is a function instead of a module\n",
        "import pandas as pd\n",
        "import seaborn as sns\n",
        "from sklearn.metrics import roc_curve\n",
        "from sklearn.metrics import auc\n",
        "from sklearn.utils import shuffle\n",
        "import pandas as pd\n",
        "import os\n",
        "import re"
      ]
    },
    {
      "cell_type": "code",
      "source": [
        "from google.colab import drive\n",
        "drive.mount('/content/drive')"
      ],
      "metadata": {
        "id": "RaMHrZ1z_14Q",
        "colab": {
          "base_uri": "https://localhost:8080/"
        },
        "outputId": "3268f773-56a2-47b1-c4d6-9f9894d3d211"
      },
      "execution_count": null,
      "outputs": [
        {
          "output_type": "stream",
          "name": "stdout",
          "text": [
            "Mounted at /content/drive\n"
          ]
        }
      ]
    },
    {
      "cell_type": "code",
      "source": [
        "rootpath=r'/content/drive'\n",
        "subpath=r'MyDrive/DTI-paper/dataset (1)'\n",
        "save_path = r'My Drive/DTI-paper/whole_bad'\n",
        "save_path2 = r'My Drive/DTI-paper/whole_good'\n",
        "# drive.mount(rootpath)"
      ],
      "metadata": {
        "id": "0Cu93DMoX9lJ"
      },
      "execution_count": null,
      "outputs": []
    },
    {
      "cell_type": "code",
      "source": [
        "save_path = os.path.join(rootpath,save_path)\n",
        "save_path2 = os.path.join(rootpath,save_path2)\n",
        "datapath= os.path.join(rootpath,subpath)\n",
        "os.chdir(save_path)\n",
        "os.chdir(save_path2)\n",
        "os.chdir(datapath)"
      ],
      "metadata": {
        "id": "bLE3TTfTYBM6"
      },
      "execution_count": null,
      "outputs": []
    },
    {
      "cell_type": "code",
      "source": [
        "textfileList = []\n",
        "for file in os.listdir():\n",
        "    if file.endswith(\".txt\"):\n",
        "        textfileList.append(file)\n",
        "textfileList = textfileList[:7]\n",
        "print(textfileList)"
      ],
      "metadata": {
        "colab": {
          "base_uri": "https://localhost:8080/"
        },
        "id": "IiyTzJ62YGK5",
        "outputId": "16ad7932-333b-4e54-92b5-e6f0bfc26b40"
      },
      "execution_count": null,
      "outputs": [
        {
          "output_type": "stream",
          "name": "stdout",
          "text": [
            "['test_S16_man.txt', 'test_1Shell64_DTI_S4_man.txt', 'test_3Shell78_S5_man.txt', 'test_S7_man.txt', 'test_S11_man.txt', '1_man.txt', '2_man.txt']\n"
          ]
        }
      ]
    },
    {
      "cell_type": "code",
      "source": [
        "# Get nii file names\n",
        "nameList = []\n",
        "for file in textfileList:\n",
        "    nameList.append(file.split('.')[0][:-4])\n",
        "print(nameList)"
      ],
      "metadata": {
        "colab": {
          "base_uri": "https://localhost:8080/"
        },
        "id": "KClz29reYIcd",
        "outputId": "92cba802-95c2-49d0-ef1a-271d6986964c"
      },
      "execution_count": null,
      "outputs": [
        {
          "output_type": "stream",
          "name": "stdout",
          "text": [
            "['test_S16', 'test_1Shell64_DTI_S4', 'test_3Shell78_S5', 'test_S7', 'test_S11', '1', '2']\n"
          ]
        }
      ]
    },
    {
      "cell_type": "code",
      "source": [
        "# Import data\n",
        "dataList = []\n",
        "index = 0\n",
        "for file in nameList:\n",
        "    if os.path.exists(file + '.nii'):\n",
        "        img = image.smooth_img(os.path.join(datapath, file + '.nii'), fwhm=None)\n",
        "        dataList.append(img)\n",
        "    elif os.path.exists(file + '.nii.gz'):\n",
        "        img = image.smooth_img(os.path.join(datapath, file + '.nii.gz'), fwhm=None)\n",
        "        dataList.append(img)\n",
        "    else:\n",
        "        print(\"No corresponding data file\")\n",
        "        del textfileList[index]\n",
        "        continue\n",
        "    index = index + 1\n",
        "\n",
        "# Get shape and get minimum dimensions\n",
        "minLength = []\n",
        "minHeight = []\n",
        "slices = []\n",
        "for file in dataList:\n",
        "    print(file.shape)\n",
        "    minLength.append(file.shape[0])\n",
        "    minHeight.append(file.shape[1])\n",
        "    slices.append(file.shape[2]*file.shape[3])\n",
        "\n",
        "minLength = min(minLength)\n",
        "minHeight = min(minHeight)\n",
        "print(\"Number of slices for each file:\")\n",
        "print(slices)\n",
        "print(\"Minimum Dimension:\")\n",
        "print((minLength, minHeight))"
      ],
      "metadata": {
        "colab": {
          "base_uri": "https://localhost:8080/"
        },
        "id": "5nJI0pwcYK0T",
        "outputId": "45fe4570-b98b-410d-b0bf-9119d0a2e754"
      },
      "execution_count": null,
      "outputs": [
        {
          "output_type": "stream",
          "name": "stdout",
          "text": [
            "(140, 140, 81, 104)\n",
            "(96, 96, 60, 69)\n",
            "(96, 96, 56, 80)\n",
            "(96, 96, 56, 80)\n",
            "(120, 120, 72, 67)\n",
            "(256, 256, 60, 18)\n",
            "(256, 256, 59, 18)\n",
            "Number of slices for each file:\n",
            "[8424, 4140, 4480, 4480, 4824, 1080, 1062]\n",
            "Minimum Dimension:\n",
            "(96, 96)\n"
          ]
        }
      ]
    },
    {
      "cell_type": "markdown",
      "source": [
        "# Deep Learning models"
      ],
      "metadata": {
        "id": "4IfIk553-MMa"
      }
    },
    {
      "cell_type": "markdown",
      "source": [
        "## Verify the result of the best orginal deep learning model"
      ],
      "metadata": {
        "id": "gOfS-AkSiSNA"
      }
    },
    {
      "cell_type": "code",
      "source": [
        "tar_path_train_bad = r'My Drive/DTI-paper/whole_bad_train'\n",
        "tar_path_train_good = r'My Drive/DTI-paper/whole_good_train'\n",
        "\n",
        "tar_path_test_bad = r'My Drive/DTI-paper/whole_bad_test'\n",
        "tar_path_test_good = r'My Drive/DTI-paper/whole_good_test'\n",
        "\n",
        "tar_path_val_bad = r'My Drive/DTI-paper/whole_bad_val'\n",
        "tar_path_val_good = r'My Drive/DTI-paper/whole_good_val'\n",
        "\n",
        "\n",
        "tar_path_train_bad = os.path.join(rootpath,tar_path_train_bad)\n",
        "tar_path_train_good = os.path.join(rootpath,tar_path_train_good)\n",
        "tar_path_test_bad = os.path.join(rootpath,tar_path_test_bad)\n",
        "tar_path_test_good = os.path.join(rootpath,tar_path_test_good)\n",
        "tar_path_val_bad = os.path.join(rootpath,tar_path_val_bad)\n",
        "tar_path_val_good = os.path.join(rootpath,tar_path_val_good)\n",
        "\n",
        "os.chdir(tar_path_train_bad)\n",
        "os.chdir(tar_path_train_good)\n",
        "os.chdir(tar_path_test_bad)\n",
        "os.chdir(tar_path_test_good)\n",
        "os.chdir(tar_path_train_bad)\n",
        "os.chdir(tar_path_val_bad)"
      ],
      "metadata": {
        "id": "u-bWr-rq-O9N"
      },
      "execution_count": null,
      "outputs": []
    },
    {
      "cell_type": "code",
      "source": [
        "print(len(os.listdir(tar_path_val_bad)))\n",
        "print(len(os.listdir(tar_path_val_good)))\n",
        "print(len(os.listdir(tar_path_train_bad)))\n",
        "print(len(os.listdir(tar_path_train_good)))\n",
        "print(len(os.listdir(tar_path_test_bad)))\n",
        "print(len(os.listdir(tar_path_test_good)))"
      ],
      "metadata": {
        "colab": {
          "base_uri": "https://localhost:8080/"
        },
        "id": "RhuPB8Pl-S4U",
        "outputId": "8c51597a-b95e-4f11-b249-799a9c26c6b1"
      },
      "execution_count": null,
      "outputs": [
        {
          "output_type": "stream",
          "name": "stdout",
          "text": [
            "452\n",
            "4116\n",
            "1768\n",
            "16467\n",
            "552\n",
            "5145\n"
          ]
        }
      ]
    },
    {
      "cell_type": "code",
      "source": [
        "## extracting train/test/val data as array, preprocessing\n",
        "import re\n",
        "def extract_x(file_path_good,file_path_bad):\n",
        "  y_label = []\n",
        "  index = 0\n",
        "  index_y = 0\n",
        "  maching_check = []\n",
        "  whole_candidate_good = os.listdir(file_path_good) ## in fact  very wired since must follow sequence s7.s11.1.2, key word in 1 too confused\n",
        "  whole_candidate_bad = os.listdir(file_path_bad) ## in fact  very wired since must follow sequence s7.s11.1.2, key word in 1 too confused\n",
        "  \n",
        "  for f in dataList:  ## traver by sequence s7,s11,1,2\n",
        "      data = [] ## store the array by subject(file)\n",
        "      filename = textfileList[index:index+1]\n",
        "      # print(filename, img.shape)\n",
        "      sub = filename[0].split('_man')[0]\n",
        "      if sub == '1':\n",
        "        sub = '1_vol'\n",
        "      img = f.get_data() # NiFTI to Numpy data type\n",
        "      sub_belong_good = [string for string in whole_candidate_good if (sub in string)]\n",
        "      sub_belong_bad = [string for string in whole_candidate_bad if (sub in string)]\n",
        "      # print('total_file:',len(sub_belong))\n",
        "      whole_candidate_good = [x for x in whole_candidate_good if x not in sub_belong_good]\n",
        "      whole_candidate_bad = [x for x in whole_candidate_bad if x not in sub_belong_bad]\n",
        "      # print('string:',sub)\n",
        "      for i in sub_belong_good:\n",
        "        y_label.append(1)\n",
        "        a = re.split('_vol',i)\n",
        "        b = a[1].split('_slice')\n",
        "        vol = int(b[0])-1\n",
        "        sli = int(b[1].split('.jpeg')[0])-1\n",
        "        k = img[:,:,sli,vol]\n",
        "        data.append(k)\n",
        "      for i in sub_belong_bad:\n",
        "        y_label.append(0)\n",
        "        a = re.split('_vol',i)\n",
        "        b = a[1].split('_slice')\n",
        "        vol = int(b[0])-1\n",
        "        sli = int(b[1].split('.jpeg')[0])-1\n",
        "        k = img[:,:,sli,vol]\n",
        "        data.append(k)\n",
        "      temp = np.dstack(data)\n",
        "      v_min = temp.min(axis=(0, 1), keepdims=True)\n",
        "      v_max = temp.max(axis=(0, 1), keepdims=True)\n",
        "      temp = (temp - v_min)/(v_max - v_min)\n",
        "      print(temp.shape)\n",
        "\n",
        "      # Down sampling to a same size, e.g., 96x96\n",
        "      img_new = zoom(temp, (minLength/temp.shape[0], minHeight/temp.shape[1], 1))\n",
        "\n",
        "      # Combine data\n",
        "      if index == 0:\n",
        "          x = img_new\n",
        "      else:\n",
        "          x = np.concatenate([x, img_new], axis=2)\n",
        "      index = index + 1\n",
        "\n",
        "  # end loop\n",
        "  x = np.moveaxis(x, -1, 0) #move the third dim to the first dim for running cnn which needs the first dim is the sample#\n",
        "  x = np.reshape(x, (x.shape[0],minLength, minHeight, 1)) #convert 2D sample to 3D, i.e., add 1 to the 3rd dimension\n",
        "  print(x.shape)\n",
        "  y_label = np.array(y_label)\n",
        "  return x, y_label"
      ],
      "metadata": {
        "id": "AldDYe7n-VNx"
      },
      "execution_count": null,
      "outputs": []
    },
    {
      "cell_type": "code",
      "source": [
        "x_val,y_val = extract_x(tar_path_val_good,tar_path_val_bad)\n",
        "\n",
        "x_train,y_train = extract_x(tar_path_train_good,tar_path_train_bad)\n",
        "print(x_train.shape)  #the 4th dimension is 1, because cnn needs a 3D image\n",
        "# print(x)\n",
        "# (11446, 96, 96, 1)\n",
        "print(y_train.shape)\n",
        "# print(y)\n",
        "# (11446,)\n",
        "\n",
        "from collections import Counter\n",
        "print(Counter(y_train))\n",
        "\n",
        "from collections import Counter\n",
        "print(Counter(y_val))"
      ],
      "metadata": {
        "colab": {
          "base_uri": "https://localhost:8080/"
        },
        "id": "t2JF397V-dcm",
        "outputId": "2a07a860-e6ca-42b6-b411-d0a9d955d594"
      },
      "execution_count": null,
      "outputs": [
        {
          "output_type": "stream",
          "name": "stderr",
          "text": [
            "/usr/local/lib/python3.7/dist-packages/ipykernel_launcher.py:18: DeprecationWarning: get_data() is deprecated in favor of get_fdata(), which has a more predictable return type. To obtain get_data() behavior going forward, use numpy.asanyarray(img.dataobj).\n",
            "\n",
            "* deprecated from version: 3.0\n",
            "* Will raise <class 'nibabel.deprecator.ExpiredDeprecationError'> as of version: 5.0\n"
          ]
        },
        {
          "output_type": "stream",
          "name": "stdout",
          "text": [
            "(140, 140, 1291)\n",
            "(96, 96, 674)\n",
            "(96, 96, 745)\n",
            "(96, 96, 729)\n",
            "(120, 120, 768)\n",
            "(256, 256, 182)\n",
            "(256, 256, 169)\n",
            "(4558, 96, 96, 1)\n",
            "(140, 140, 5485)\n",
            "(96, 96, 2678)\n",
            "(96, 96, 2805)\n",
            "(96, 96, 2837)\n",
            "(120, 120, 3061)\n",
            "(256, 256, 682)\n",
            "(256, 256, 687)\n",
            "(18235, 96, 96, 1)\n",
            "(18235, 96, 96, 1)\n",
            "(18235,)\n",
            "Counter({1: 16467, 0: 1768})\n",
            "Counter({1: 4116, 0: 442})\n"
          ]
        }
      ]
    },
    {
      "cell_type": "code",
      "source": [
        "x_test,y_test = extract_x(tar_path_test_good,tar_path_test_bad)\n",
        "print(x_test.shape)  #the 4th dimension is 1, because cnn needs a 3D image\n",
        "# print(x)\n",
        "# (11446, 96, 96, 1)\n",
        "print(y_test.shape)\n",
        "# print(y)\n",
        "# (11446,)\n",
        "\n",
        "from collections import Counter\n",
        "print(Counter(y_test))"
      ],
      "metadata": {
        "colab": {
          "base_uri": "https://localhost:8080/"
        },
        "id": "E_-A0WIs-f6q",
        "outputId": "beed5426-ab07-4e6b-f9c3-c78be9f911cd"
      },
      "execution_count": null,
      "outputs": [
        {
          "output_type": "stream",
          "name": "stderr",
          "text": [
            "/usr/local/lib/python3.7/dist-packages/ipykernel_launcher.py:18: DeprecationWarning: get_data() is deprecated in favor of get_fdata(), which has a more predictable return type. To obtain get_data() behavior going forward, use numpy.asanyarray(img.dataobj).\n",
            "\n",
            "* deprecated from version: 3.0\n",
            "* Will raise <class 'nibabel.deprecator.ExpiredDeprecationError'> as of version: 5.0\n"
          ]
        },
        {
          "output_type": "stream",
          "name": "stdout",
          "text": [
            "(140, 140, 1648)\n",
            "(96, 96, 788)\n",
            "(96, 96, 930)\n",
            "(96, 96, 914)\n",
            "(120, 120, 995)\n",
            "(256, 256, 216)\n",
            "(256, 256, 206)\n",
            "(5697, 96, 96, 1)\n",
            "(5697, 96, 96, 1)\n",
            "(5697,)\n",
            "Counter({1: 5145, 0: 552})\n"
          ]
        }
      ]
    },
    {
      "cell_type": "code",
      "source": [
        "len_class_0 = sum(y_train==0)\n",
        "len_class_1 = sum(y_train==1)\n",
        "\n",
        "ratio = 0.4   # the ratio determines the probability of negative samples\n",
        "num_sample = int(len_class_1*ratio/(1-ratio))-len_class_0 ## how many images we need to increase\n",
        "print('sampled class 0 number is :', num_sample)\n",
        "print('total class 0 number is :', len_class_0)"
      ],
      "metadata": {
        "colab": {
          "base_uri": "https://localhost:8080/"
        },
        "id": "aP_n897A-iK7",
        "outputId": "761552a1-7400-40ac-d5d2-83245c9ebbf4"
      },
      "execution_count": null,
      "outputs": [
        {
          "output_type": "stream",
          "name": "stdout",
          "text": [
            "sampled class 0 number is : 9210\n",
            "total class 0 number is : 1768\n"
          ]
        }
      ]
    },
    {
      "cell_type": "code",
      "source": [
        "## auguention on imbalanced data for training\n",
        "from scipy import ndimage, misc\n",
        "import matplotlib.pyplot as plt\n",
        "\n",
        "import random\n",
        "\n",
        "approach = 'approach1'\n",
        "if approach == 'approach1':\n",
        "    print('x_train.shape', x_train.shape)\n",
        "    # print(x_train)\n",
        "\n",
        "    len_class_0 = sum(y_train==0)\n",
        "    len_class_1 = sum(y_train==1)\n",
        "    print('class 0',len_class_0)\n",
        "    print('class 1',len_class_1)\n",
        "\n",
        "    ratio = 0.4   # the ratio determines the probability of negative samples\n",
        "    num_sample = int(len_class_1*ratio/(1-ratio))-len_class_0 ## how many images we need to increase\n",
        "    print('Increased class 0 number is :', num_sample)\n",
        "\n",
        "    select_slices_sum = num_sample/10 ## total 10 rotations degreees, this shows how many slices we need to select\n",
        "\n",
        "    class_0_index = np.argwhere(y_train == 0)\n",
        "    class_0_index = np.squeeze(class_0_index) ## array of index of all bad slices within whole training set\n",
        "    # print(class_0_index)\n",
        "\n",
        "    def rotation(arr,degree):\n",
        "        new_arr = ndimage.rotate(arr, degree, reshape=False)\n",
        "        return new_arr\n",
        "\n",
        "    # def gasuss_noise(arr, mean=0, var=0.001):\n",
        "    #     noise = np.random.normal(mean, var ** 0.5, arr.shape)\n",
        "    #     new_arr = arr + noise\n",
        "    #     return new_arr\n",
        "\n",
        "    # def flipLR(arr):\n",
        "    #     new_arr = np.fliplr(arr)\n",
        "    #     return new_arr\n",
        "    # aug_strategies = ['flip180','flipLR','gasuss_noise','none']\n",
        "    degrees = [-5,-4,-3,-2,-1,1,2,3,4,5] ##0-9 index\n",
        "    print('select_slices_sum',select_slices_sum)\n",
        "    # random_index = random_arry[]\n",
        "    # for i in random_index:\n",
        "    #     y_train_sample_index = class_0_index[i]\n",
        "    random_index = random.sample(range(0,len_class_0),int(select_slices_sum)) ## randomly generated 912 indices within 1768 bad slices \n",
        "    print('random_index',len(random_index))\n",
        "\n",
        "    for i in random_index: ## traverse every randomly selected image index\n",
        "        # y_train_sample_index = random.choice(class_0_index)\n",
        "        y_train_sample_index = class_0_index[i] ## get corresponding index of bad slice within the whole training set\n",
        "        sampled_img = x_train[y_train_sample_index,:,:,:]\n",
        "        print('sampled_img.shape', sampled_img.shape)\n",
        "        print('select index:',y_train_sample_index)\n",
        "\n",
        "        for j in range(10): ## every image increase 10 images\n",
        "          aug = degrees[j]\n",
        "          # aug = random.choice(degrees)\n",
        "          print(aug)\n",
        "          sampled_img_new = rotation(sampled_img,aug)\n",
        "        # if aug == 'flip180':\n",
        "        #     sampled_img_new = flip180(sampled_img)\n",
        "        # elif aug == 'flipLR':\n",
        "        #     sampled_img_new = flipLR(sampled_img)\n",
        "        # elif aug == 'gasuss_noise':\n",
        "        #     sampled_img_new = gasuss_noise(sampled_img)\n",
        "        # else:\n",
        "        #     sampled_img_new = sampled_img\n",
        "\n",
        "          print('sampled_img.shape', sampled_img.shape)\n",
        "          sampled_img_new = sampled_img_new[np.newaxis,]\n",
        "          print('sampled_img_new.shape', sampled_img_new.shape)\n",
        "          x_train = np.concatenate([x_train, sampled_img_new], axis=0)\n",
        "\n",
        "          y_train = np.concatenate([y_train, [0]], axis=0)\n",
        "\n",
        "if approach == 'approach2':\n",
        "    count=0\n",
        "    # print('x_train.shape', x_train.shape)\n",
        "    len_class_0 = sum(y_train==0)\n",
        "    len_class_1 = sum(y_train==1)\n",
        "    print('class 0',len_class_0)\n",
        "    print('class 1',len_class_1)\n",
        "\n",
        "    ratio = 0.5   # the ratio determines the probability of negative samples\n",
        "    num_sample = int(len_class_1*ratio/(1-ratio))-len_class_0 ## how many images we need to increase\n",
        "    print('Increased class 0 number is :', num_sample)\n",
        "\n",
        "    whole_group_1_degrees = int(num_sample/len_class_0)  ## how many augs every image need to increase (whole bad slices)\n",
        "    seperate_group_2 = num_sample-whole_group_1_degrees*len_class_0 ## how many remaining slices need to be augmented\n",
        "\n",
        "    class_0_index = np.argwhere(y_train == 0)\n",
        "    class_0_index = np.squeeze(class_0_index) ## array of index of all bad slices within whole training set\n",
        "    # print(class_0_index)\n",
        "\n",
        "    def rotation(arr,degree):\n",
        "        new_arr = ndimage.rotate(arr, degree, reshape=False)\n",
        "        return new_arr\n",
        "    \n",
        "    degrees = [-5,-4,-3,-2,-1,1,2,3,4,5] ##0-9 index\n",
        "\n",
        "    random_index_whole_group_degree = random.sample(range(0,10),int(whole_group_1_degrees)) ## randomly generated ~x degrees within total 10 degree\n",
        "    select_degrees = []\n",
        "    print('first part',random_index_whole_group_degree)\n",
        "    for i in class_0_index:   ## traverse every bad image within the whole training set\n",
        "      sampled_img = x_train[i,:,:,:]\n",
        "      # print('sampled_img.shape', sampled_img.shape)\n",
        "      # print('select index:',i)\n",
        "\n",
        "      for j in random_index_whole_group_degree:\n",
        "        aug_degree = degrees[j]\n",
        "        select_degrees.append(aug_degree)\n",
        "        print(aug_degree)\n",
        "        sampled_img_new = rotation(sampled_img,aug_degree)\n",
        "\n",
        "        # print('sampled_img.shape', sampled_img.shape)\n",
        "        sampled_img_new = sampled_img_new[np.newaxis,]\n",
        "        # print('sampled_img_new.shape', sampled_img_new.shape)\n",
        "        count+=1\n",
        "        x_train = np.concatenate([x_train, sampled_img_new], axis=0)\n",
        "        y_train = np.concatenate([y_train, [0]], axis=0)\n",
        "    \n",
        "    random_index = random.sample(range(0,len_class_0),int(seperate_group_2)) ## randomly generated remaining number indices within 1768 bad slices \n",
        "    remain_degrees = [item for item in degrees if item not in select_degrees]\n",
        "\n",
        "    print('random_index',random_index)\n",
        "    print('remain_degrees',remain_degrees)\n",
        "    for i in random_index: ## traverse every randomly selected image index\n",
        "        y_train_sample_index = class_0_index[i] ## get corresponding index of bad slice within the whole training set\n",
        "        sampled_img = x_train[y_train_sample_index,:,:,:]\n",
        "        # print('sampled_img.shape', sampled_img.shape)\n",
        "        # print('select index:',y_train_sample_index)\n",
        "\n",
        "        \n",
        "        aug = random.choice(remain_degrees)\n",
        "        print(aug)\n",
        "        sampled_img_new = rotation(sampled_img,aug)\n",
        "        # print('sampled_img.shape', sampled_img.shape)\n",
        "        sampled_img_new = sampled_img_new[np.newaxis,]\n",
        "        # print('sampled_img_new.shape', sampled_img_new.shape)\n",
        "        count+=1\n",
        "        x_train = np.concatenate([x_train, sampled_img_new], axis=0)\n",
        "        y_train = np.concatenate([y_train, [0]], axis=0)\n",
        "\n",
        "print('*********finished***********')"
      ],
      "metadata": {
        "id": "lpEpsCWW_3JT"
      },
      "execution_count": null,
      "outputs": []
    },
    {
      "cell_type": "code",
      "source": [
        "## check the current label ratio before sending to the model\n",
        "### bad\n",
        "print(\"Train Proportion:\", sum(y_train == 0) / len(y_train))\n",
        "print(\"Val Proportion:\", sum(y_val == 0) / len(y_val))\n",
        "print(\"Test Proportion:\", sum(y_test == 0) / len(y_test))"
      ],
      "metadata": {
        "colab": {
          "base_uri": "https://localhost:8080/"
        },
        "id": "P7_LRP7l-xU5",
        "outputId": "04026698-13b6-40c6-a33d-b0b479408b85"
      },
      "execution_count": null,
      "outputs": [
        {
          "output_type": "stream",
          "name": "stdout",
          "text": [
            "Train Proportion: 0.4\n",
            "Val Proportion: 0.09697235629662132\n",
            "Test Proportion: 0.09689310163243813\n"
          ]
        }
      ]
    },
    {
      "cell_type": "code",
      "source": [
        "## good\n",
        "print(\"Train Proportion:\", sum(y_train == 1) / len(y_train))\n",
        "print(\"Val Proportion:\", sum(y_val == 1) / len(y_val))\n",
        "print(\"Test Proportion:\", sum(y_test == 1) / len(y_test))"
      ],
      "metadata": {
        "colab": {
          "base_uri": "https://localhost:8080/"
        },
        "id": "daoZIFtG-zgq",
        "outputId": "fdcfada3-7bf7-47cb-d605-cd5451d53615"
      },
      "execution_count": null,
      "outputs": [
        {
          "output_type": "stream",
          "name": "stdout",
          "text": [
            "Train Proportion: 0.6\n",
            "Val Proportion: 0.9030276437033786\n",
            "Test Proportion: 0.9031068983675619\n"
          ]
        }
      ]
    },
    {
      "cell_type": "code",
      "source": [
        "###***************          VERY IMPORTANT!!!! For switching the label, postive class for bad slices(label 1),negative class for good slices(label 0)\n",
        "## ***************     Reference here: https://machinelearningmastery.com/roc-curves-and-precision-recall-curves-for-imbalanced-classification/\n",
        "\n",
        "def reverse_array(arrr):\n",
        "  for i in range(len(arrr)):\n",
        "    if arrr[i]==0:\n",
        "      arrr[i]=1\n",
        "    else:\n",
        "      arrr[i]=0\n",
        "reverse_array(y_train)\n",
        "reverse_array(y_val)\n",
        "reverse_array(y_test)"
      ],
      "metadata": {
        "id": "Is5RsfVO-z4V"
      },
      "execution_count": null,
      "outputs": []
    },
    {
      "cell_type": "code",
      "source": [
        "%tensorflow_version 2.x\n",
        "import tensorflow as tf\n",
        "device_name = tf.test.gpu_device_name()\n",
        "if device_name != '/device:GPU:0':\n",
        "  raise SystemError('GPU device not found')\n",
        "print('Found GPU at: {}'.format(device_name))"
      ],
      "metadata": {
        "colab": {
          "base_uri": "https://localhost:8080/"
        },
        "id": "dUGjmTSW-1zy",
        "outputId": "07903040-b188-4285-c89b-e459aaf5bb79"
      },
      "execution_count": null,
      "outputs": [
        {
          "output_type": "stream",
          "name": "stdout",
          "text": [
            "Found GPU at: /device:GPU:0\n"
          ]
        }
      ]
    },
    {
      "cell_type": "code",
      "source": [
        "# Double check the result for the best model\n",
        "new_model = tf.keras.models.load_model('/content/drive/MyDrive/DTI-paper/result_saved_best/final_model__method1_r_0.4_lr_0.001_L2_0.02_drop_0.4.h5')\n",
        "\n",
        "# Check its architecture\n",
        "new_model.summary()"
      ],
      "metadata": {
        "colab": {
          "base_uri": "https://localhost:8080/"
        },
        "id": "ipnhiP-nAgrv",
        "outputId": "9d5790f8-e1c0-4d1b-f3d4-1a8f659d1a0a"
      },
      "execution_count": null,
      "outputs": [
        {
          "output_type": "stream",
          "name": "stdout",
          "text": [
            "Model: \"sequential\"\n",
            "_________________________________________________________________\n",
            " Layer (type)                Output Shape              Param #   \n",
            "=================================================================\n",
            " conv2d (Conv2D)             (None, 90, 90, 17)        850       \n",
            "                                                                 \n",
            " max_pooling2d (MaxPooling2D  (None, 22, 22, 17)       0         \n",
            " )                                                               \n",
            "                                                                 \n",
            " conv2d_1 (Conv2D)           (None, 18, 18, 7)         2982      \n",
            "                                                                 \n",
            " max_pooling2d_1 (MaxPooling  (None, 4, 4, 7)          0         \n",
            " 2D)                                                             \n",
            "                                                                 \n",
            " dropout (Dropout)           (None, 4, 4, 7)           0         \n",
            "                                                                 \n",
            " flatten (Flatten)           (None, 112)               0         \n",
            "                                                                 \n",
            " dense (Dense)               (None, 100)               11300     \n",
            "                                                                 \n",
            " dense_1 (Dense)             (None, 1)                 101       \n",
            "                                                                 \n",
            "=================================================================\n",
            "Total params: 15,233\n",
            "Trainable params: 15,233\n",
            "Non-trainable params: 0\n",
            "_________________________________________________________________\n"
          ]
        }
      ]
    },
    {
      "cell_type": "code",
      "source": [
        "from sklearn.metrics import accuracy_score\n",
        "from sklearn.metrics import precision_score\n",
        "from sklearn.metrics import recall_score\n",
        "from sklearn.metrics import f1_score\n",
        "from sklearn.metrics import cohen_kappa_score\n",
        "from sklearn.metrics import roc_auc_score\n",
        "from sklearn.metrics import confusion_matrix\n",
        "\n",
        "yhat_probs = new_model.predict(x_test, verbose=0)\n",
        "# predict crisp classes for test set\n",
        "# yhat_classes = new_model.predict_classes(x_test, verbose=0)\n",
        "yhat_classes = (yhat_probs > 0.5).astype(\"int32\")\n",
        "\n",
        "yhat_probs = yhat_probs[:, 0]\n",
        "yhat_classes = yhat_classes[:, 0]\n",
        "\n",
        "\n",
        "# precision tp / (tp + fp)\n",
        "precision = precision_score(y_test, yhat_classes)\n",
        "print('Precision: %f' % precision)\n",
        "# recall: tp / (tp + fn)\n",
        "recall = recall_score(y_test, yhat_classes)\n",
        "print('Recall: %f' % recall)\n",
        "# f1: 2 tp / (2 tp + fp + fn)\n",
        "f1 = f1_score(y_test, yhat_classes)\n",
        "print('F1 score: %f' % f1)\n",
        "\n",
        "# kappa\n",
        "kappa = cohen_kappa_score(y_test, yhat_classes)\n",
        "print('Cohens kappa: %f' % kappa)\n",
        "\n",
        "# auc\n",
        "auc = roc_auc_score(y_test, yhat_classes)\n",
        "print('AUC: %f' % auc)"
      ],
      "metadata": {
        "colab": {
          "base_uri": "https://localhost:8080/"
        },
        "id": "FsOdRtT_BDFb",
        "outputId": "a37ef510-6b09-4017-bb85-7e42192e9581"
      },
      "execution_count": null,
      "outputs": [
        {
          "output_type": "stream",
          "name": "stdout",
          "text": [
            "Precision: 0.844492\n",
            "Recall: 0.708333\n",
            "F1 score: 0.770443\n",
            "Cohens kappa: 0.748184\n",
            "AUC: 0.847170\n"
          ]
        }
      ]
    },
    {
      "cell_type": "markdown",
      "source": [
        "## Test the BatchNormalization layer"
      ],
      "metadata": {
        "id": "fLe_DGcHij4G"
      }
    },
    {
      "cell_type": "code",
      "source": [
        "from tensorflow.keras import regularizers\n",
        "# Since batchnormaization is one of the most common layer, \n",
        "# we tried to add it to see if it helps improve f1-score obviously.\n",
        "def cnn_model():\n",
        "  model = tf.keras.models.Sequential([\n",
        "      tf.keras.layers.Conv2D(17, (7,7),input_shape =(minLength, minHeight, 1), activation='relu', padding='valid'),\n",
        "      tf.keras.layers.MaxPooling2D(pool_size=(4, 4),strides=(4, 4), padding='valid'),\n",
        "      tf.keras.layers.BatchNormalization(),\n",
        "      tf.keras.layers.Conv2D(7, (5,5), activation='relu',padding='valid'),\n",
        "      tf.keras.layers.MaxPooling2D(pool_size=(4, 4),strides=(4, 4), padding='valid'), \n",
        "      tf.keras.layers.BatchNormalization(),\n",
        "      tf.keras.layers.Dropout(0.4),\n",
        "      tf.keras.layers.Flatten(),\n",
        "      tf.keras.layers.Dense(100, kernel_regularizer=regularizers.l2(0.02),activation='relu'),\n",
        "      # tf.keras.layers.Dropout(0.4),\n",
        "      tf.keras.layers.Dense(1,kernel_regularizer=regularizers.l2(0.02),activation='sigmoid')\n",
        "      #tf.keras.layers.Dense(2)\n",
        "  ])\n",
        "## add L2 regulization lambda=.. 0.001-0.5\n",
        "## add sampling\n",
        "\n",
        "  # Model metrics\n",
        "  \n",
        "  adam = tf.keras.optimizers.Adam(learning_rate=0.001, beta_1=0.9, beta_2=0.999, amsgrad=False)\n",
        "  model.compile(optimizer=adam, loss='binary_crossentropy', metrics=['accuracy'])\n",
        "\n",
        "  return model"
      ],
      "metadata": {
        "id": "LU1vJGe8x8S_"
      },
      "execution_count": null,
      "outputs": []
    },
    {
      "cell_type": "code",
      "source": [
        "# Training model\n",
        "from tensorflow.keras.callbacks import EarlyStopping\n",
        "from keras.callbacks import EarlyStopping, ModelCheckpoint\n",
        "\n",
        "model = cnn_model()\n",
        "model.summary()\n"
      ],
      "metadata": {
        "colab": {
          "base_uri": "https://localhost:8080/"
        },
        "id": "T2oUW5GFy4Ul",
        "outputId": "3ebe96d3-3c67-4f81-a63c-58932967d502"
      },
      "execution_count": null,
      "outputs": [
        {
          "output_type": "stream",
          "name": "stdout",
          "text": [
            "Model: \"sequential\"\n",
            "_________________________________________________________________\n",
            " Layer (type)                Output Shape              Param #   \n",
            "=================================================================\n",
            " conv2d_2 (Conv2D)           (None, 90, 90, 17)        850       \n",
            "                                                                 \n",
            " max_pooling2d_2 (MaxPooling  (None, 22, 22, 17)       0         \n",
            " 2D)                                                             \n",
            "                                                                 \n",
            " batch_normalization_2 (Batc  (None, 22, 22, 17)       68        \n",
            " hNormalization)                                                 \n",
            "                                                                 \n",
            " conv2d_3 (Conv2D)           (None, 18, 18, 7)         2982      \n",
            "                                                                 \n",
            " max_pooling2d_3 (MaxPooling  (None, 4, 4, 7)          0         \n",
            " 2D)                                                             \n",
            "                                                                 \n",
            " batch_normalization_3 (Batc  (None, 4, 4, 7)          28        \n",
            " hNormalization)                                                 \n",
            "                                                                 \n",
            " dropout_1 (Dropout)         (None, 4, 4, 7)           0         \n",
            "                                                                 \n",
            " flatten_1 (Flatten)         (None, 112)               0         \n",
            "                                                                 \n",
            " dense (Dense)               (None, 100)               11300     \n",
            "                                                                 \n",
            " dense_1 (Dense)             (None, 1)                 101       \n",
            "                                                                 \n",
            "=================================================================\n",
            "Total params: 15,329\n",
            "Trainable params: 15,281\n",
            "Non-trainable params: 48\n",
            "_________________________________________________________________\n"
          ]
        }
      ]
    },
    {
      "cell_type": "code",
      "source": [
        "mycallbacks = [tf.keras.callbacks.ModelCheckpoint(\n",
        "    filepath='/content/drive/My Drive/model{epoch:08d}.h5', \n",
        "    period=100,\n",
        "    save_weights_only=False,\n",
        "    monitor='val_loss',\n",
        "    save_best_only=True),\n",
        "    tf.keras.callbacks.EarlyStopping(monitor='val_loss',patience=1000)]"
      ],
      "metadata": {
        "colab": {
          "base_uri": "https://localhost:8080/"
        },
        "id": "vWSMwCbE-xmn",
        "outputId": "c779facf-2003-43d1-abfa-7778c7e9a7b6"
      },
      "execution_count": null,
      "outputs": [
        {
          "output_type": "stream",
          "name": "stdout",
          "text": [
            "WARNING:tensorflow:`period` argument is deprecated. Please use `save_freq` to specify the frequency in number of batches seen.\n"
          ]
        }
      ]
    },
    {
      "cell_type": "code",
      "source": [
        "from sklearn.utils import class_weight\n",
        "import numpy as np\n",
        "\n",
        "class_weights = class_weight.compute_class_weight(class_weight='balanced',classes = np.unique(y_train).reshape(-1),y = y_train.reshape(-1))\n",
        "class_weights = dict(enumerate(class_weights))\n",
        "class_weights"
      ],
      "metadata": {
        "colab": {
          "base_uri": "https://localhost:8080/"
        },
        "id": "AfHvo1il--DO",
        "outputId": "6291cfe2-29e7-4657-e609-1c0c137ccd0b"
      },
      "execution_count": null,
      "outputs": [
        {
          "output_type": "execute_result",
          "data": {
            "text/plain": [
              "{0: 0.8333333333333334, 1: 1.25}"
            ]
          },
          "metadata": {},
          "execution_count": 38
        }
      ]
    },
    {
      "cell_type": "code",
      "source": [
        "class_weights = {0: 0.8333333333333334, 1: 1.25}"
      ],
      "metadata": {
        "id": "R4CM1maT_GjS"
      },
      "execution_count": null,
      "outputs": []
    },
    {
      "cell_type": "code",
      "source": [
        "history = model.fit(x_train, y_train, batch_size=800, epochs=35000, callbacks=mycallbacks,validation_data=(x_val, y_val),class_weight=class_weights)\n",
        "\n",
        "results = model.evaluate(x_test, y_test, verbose=2)\n"
      ],
      "metadata": {
        "id": "lIa6Keex0t-q"
      },
      "execution_count": null,
      "outputs": []
    },
    {
      "cell_type": "code",
      "source": [
        "# Save training log into text file\n",
        "hist_df = pd.DataFrame(history.history) \n",
        "hist_df\n",
        "hist_df.to_csv(\"/content/drive/My Drive/train_result.txt\", sep='\\t', index=False)\n",
        "\n",
        "# Save testing log into text file\n",
        "hist_df = pd.DataFrame(results, index=['loss','accuracy']) \n",
        "hist_df\n",
        "hist_df.to_csv(\"/content/drive/My Drive/test_result.txt\", sep='\\t', index=False)"
      ],
      "metadata": {
        "id": "jXdYG58f01Ar"
      },
      "execution_count": null,
      "outputs": []
    },
    {
      "cell_type": "code",
      "source": [
        "def plotmodel(trainResult,savedFigName='train_result.png'):  \n",
        "  train_acc = trainResult.history['accuracy'][::100]\n",
        "  val_acc = trainResult.history['val_accuracy'][::100]\n",
        "  train_loss = trainResult.history['loss'][::100]\n",
        "  val_loss = trainResult.history['val_loss'][::100]\n",
        "  # train_acc = trainResult.history['accuracy']\n",
        "  # val_acc = trainResult.history['val_accuracy']\n",
        "  # train_loss = trainResult.history['loss']\n",
        "  # val_loss = trainResult.history['val_loss']\n",
        "\n",
        "  figsize_width=15 #inches\n",
        "  figsize_height=5 #inches\n",
        "  x_epochs_ticks_interval=round(len(train_acc)/figsize_width)\n",
        "  x_epochs = np.arange(1, len(train_acc) + 1, 1) #in the figure, eopch counts from 1\n",
        "  x_epochs_ticks=np.arange(1, len(train_acc) + 1,x_epochs_ticks_interval)\n",
        "    \n",
        "  fig, ax = plt.subplots(1, 2, figsize=(figsize_width, figsize_height)) \n",
        "\n",
        "  #left one\n",
        "  ax[0].set_title('Accuracy')\n",
        "  ax[0].plot(x_epochs, train_acc, color='green', label='Train')\n",
        "  ax[0].plot(x_epochs, val_acc, color='red', label='Validation')\n",
        "  ax[0].legend()\n",
        "  ax[0].set_xticks(x_epochs_ticks)\n",
        "  ax[0].set_xlabel('Epoch(per 100 epochs)')\n",
        "  ax[0].set_ylabel('Accuracy')\n",
        "  ax[0].yaxis.set_major_formatter(PercentFormatter(1))\n",
        "  \n",
        "  #right one\n",
        "  ax[1].set_title('Loss')\n",
        "  ax[1].plot(x_epochs, train_loss, color='green', label='Train')\n",
        "  ax[1].plot(x_epochs, val_loss, color='red', label='Validation')\n",
        "  ax[1].legend()\n",
        "  ax[1].set_xticks(x_epochs_ticks)\n",
        "  ax[1].set_xlabel('Epoch(per 100 epochs)')\n",
        "  ax[1].set_ylabel('Loss')  \n",
        "\n",
        "  fig.savefig(savedFigName)\n",
        "\n",
        "\n",
        "  # Plot the model accuracy\n",
        "plotmodel(history, os.path.join(datapath,'train_result.png'))"
      ],
      "metadata": {
        "colab": {
          "base_uri": "https://localhost:8080/",
          "height": 350
        },
        "id": "5YrHKbwb03v9",
        "outputId": "01c6dac4-ef34-44b5-e85a-95b546803310"
      },
      "execution_count": null,
      "outputs": [
        {
          "output_type": "display_data",
          "data": {
            "text/plain": [
              "<Figure size 1080x360 with 2 Axes>"
            ],
            "image/png": "[encoded data removed]"
          },
          "metadata": {
            "needs_background": "light"
          }
        }
      ]
    },
    {
      "cell_type": "code",
      "source": [
        "yhat_probs = model.predict(x_test, verbose=0)\n",
        "# predict crisp classes for test set\n",
        "# yhat_classes = new_model.predict_classes(x_test, verbose=0)\n",
        "yhat_classes = (yhat_probs > 0.5).astype(\"int32\")\n",
        "\n",
        "yhat_probs = yhat_probs[:, 0]\n",
        "yhat_classes = yhat_classes[:, 0]\n",
        "\n",
        "\n",
        "# precision tp / (tp + fp)\n",
        "precision = precision_score(y_test, yhat_classes)\n",
        "print('Precision: %f' % precision)\n",
        "# recall: tp / (tp + fn)\n",
        "recall = recall_score(y_test, yhat_classes)\n",
        "print('Recall: %f' % recall)\n",
        "# f1: 2 tp / (2 tp + fp + fn)\n",
        "f1 = f1_score(y_test, yhat_classes)\n",
        "print('F1 score: %f' % f1)\n",
        "\n",
        "# kappa\n",
        "kappa = cohen_kappa_score(y_test, yhat_classes)\n",
        "print('Cohens kappa: %f' % kappa)\n",
        "\n",
        "# auc\n",
        "auc = roc_auc_score(y_test, yhat_classes)\n",
        "print('AUC: %f' % auc)"
      ],
      "metadata": {
        "colab": {
          "base_uri": "https://localhost:8080/"
        },
        "id": "8lOS4V0iSdfh",
        "outputId": "2fa939fa-ff14-4d4c-dfde-929d66b0bf3b"
      },
      "execution_count": null,
      "outputs": [
        {
          "output_type": "stream",
          "name": "stdout",
          "text": [
            "Precision: 0.820248\n",
            "Recall: 0.719203\n",
            "F1 score: 0.766409\n",
            "Cohens kappa: 0.743156\n",
            "AUC: 0.851147\n"
          ]
        }
      ]
    },
    {
      "cell_type": "code",
      "source": [
        "# Confusion matrix\n",
        "def plotcon(model, savedFigName='confusion_matrix.png'):\n",
        "  yhat_probs = model.predict(x_test, verbose=0)\n",
        "  pred = (yhat_probs > 0.5).astype(\"int32\") # get predicted values. \n",
        "  con_mat = tf.math.confusion_matrix(labels=y_test, predictions=pred).numpy()\n",
        "  con_mat_df = pd.DataFrame(con_mat, index = [0, 1], columns = [0, 1]) # create a dataframe for plotting\n",
        "\n",
        "  # Show confusion matrix\n",
        "  figure = plt.figure(figsize=(6, 8))\n",
        "  sns.heatmap(con_mat_df, annot=True,cmap=plt.cm.Blues, fmt='g')\n",
        "  plt.tight_layout()\n",
        "  plt.ylabel('True label')\n",
        "  plt.xlabel('Predicted label')\n",
        "  plt.show()\n",
        "\n",
        "  plt.savefig(savedFigName)\n",
        "\n",
        "plotcon(model, os.path.join(datapath, 'confusion_matrix.png'))"
      ],
      "metadata": {
        "colab": {
          "base_uri": "https://localhost:8080/",
          "height": 617
        },
        "id": "rgYqfZKA09cl",
        "outputId": "975caf53-cd40-4379-e34e-bf19c66d164b"
      },
      "execution_count": null,
      "outputs": [
        {
          "output_type": "display_data",
          "data": {
            "text/plain": [
              "<Figure size 432x576 with 2 Axes>"
            ],
            "image/png": "[encoded data removed]"
          },
          "metadata": {
            "needs_background": "light"
          }
        },
        {
          "output_type": "display_data",
          "data": {
            "text/plain": [
              "<Figure size 432x288 with 0 Axes>"
            ]
          },
          "metadata": {}
        }
      ]
    },
    {
      "cell_type": "code",
      "source": [
        "from sklearn.metrics import roc_curve\n",
        "from sklearn.metrics import roc_auc_score\n",
        "from matplotlib import pyplot\n",
        "from sklearn.metrics import auc\n",
        "from sklearn.dummy import DummyClassifier\n",
        "\n",
        "# ROC Curve 1\n",
        "def plotroc(model, savedFigName='roc_curve.png'):\n",
        "  fpr, tpr, threshold = roc_curve(y_test, model.predict(x_test))\n",
        "  auc_result = auc(fpr, tpr)\n",
        "  plt.figure(figsize=(8, 6))\n",
        "  plt.plot([0, 1], [0, 1], 'k--')\n",
        "  plt.plot(fpr, tpr, label='CNN (area = {:.3f})'.format(auc_result))\n",
        "  plt.xlabel('False positive rate')\n",
        "  plt.ylabel('True positive rate')\n",
        "  plt.title('ROC curve')\n",
        "  plt.legend(loc='best')\n",
        "  plt.show()\n",
        "\n",
        "  plt.savefig(savedFigName)\n",
        "\n",
        "plotroc(model, os.path.join(datapath, 'roc_curve.png'))\n"
      ],
      "metadata": {
        "colab": {
          "base_uri": "https://localhost:8080/",
          "height": 422
        },
        "id": "9hBjsRb41Cks",
        "outputId": "2e0d80b1-32c6-44b5-8521-01bb9c56ac4c"
      },
      "execution_count": null,
      "outputs": [
        {
          "output_type": "display_data",
          "data": {
            "text/plain": [
              "<Figure size 576x432 with 1 Axes>"
            ],
            "image/png": "[encoded data removed]"
          },
          "metadata": {
            "needs_background": "light"
          }
        },
        {
          "output_type": "display_data",
          "data": {
            "text/plain": [
              "<Figure size 432x288 with 0 Axes>"
            ]
          },
          "metadata": {}
        }
      ]
    },
    {
      "cell_type": "code",
      "source": [
        "#ROC Curve 2\n",
        "def plotroc(model, savedFigName='roc_curve.png'):\n",
        "  yhat = model.predict_proba(x_test)\n",
        "  # retrieve just the probabilities for the positive class\n",
        "  pos_probs = yhat[:, 0]\n",
        "  # plot no skill roc curve\n",
        "  plt.figure(figsize=(8, 6))\n",
        "  pyplot.plot([0, 1], [0, 1], linestyle='--', label='No Skill')\n",
        "  # calculate roc curve for model\n",
        "  fpr, tpr, _ = roc_curve(y_test, pos_probs)\n",
        "  auc_result = auc(fpr, tpr)\n",
        "  plt.plot(fpr, tpr, label='CNN (area = {:.3f})'.format(auc_result))\n",
        "  # plot model roc curve  \n",
        "  # axis labels\n",
        "  pyplot.xlabel('False Positive Rate')\n",
        "  pyplot.ylabel('True Positive Rate')\n",
        "  # show the legend\n",
        "  plt.title('ROC curve')\n",
        "  plt.legend(loc='best')\n",
        "  # show the plot\n",
        "  pyplot.show()\n",
        "\n",
        "plotroc(model, os.path.join(datapath, 'roc_curve.png'))"
      ],
      "metadata": {
        "id": "iDM_1yCI1FVA"
      },
      "execution_count": null,
      "outputs": []
    },
    {
      "cell_type": "code",
      "source": [
        "# Precision Recall Curve\n",
        "# calculate the precision-recall auc\n",
        "\n",
        "from sklearn.metrics import precision_recall_curve\n",
        "from sklearn.metrics import cohen_kappa_score\n",
        "from sklearn.metrics import auc\n",
        "\n",
        "# P-C Curve 1\n",
        "def plotroc(model, savedFigName='PC_curve.png'):\n",
        "  yhat = model.predict(x_test)\n",
        "  model_probs = yhat[:, 0]\n",
        "  precision, recall, _ = precision_recall_curve(y_test, model_probs)\n",
        "  auc_score = auc(recall, precision)\n",
        "  plt.figure(figsize=(8, 6))\n",
        "  plt.plot([0, 1], [0, 0], 'k--')\n",
        "  plt.plot(recall, precision, label='Keras (area = {:.3f})'.format(auc_score))\n",
        "  plt.xlabel('Recall')\n",
        "  plt.ylabel('Precision')\n",
        "  plt.title('Precision-Recall Curve')\n",
        "  plt.legend(loc='best')\n",
        "  plt.show()\n",
        "\n",
        "  plt.savefig(savedFigName)\n",
        "\n",
        "plotroc(model, os.path.join(datapath, 'PC_curve.png'))"
      ],
      "metadata": {
        "id": "t8sdMlk61IAY"
      },
      "execution_count": null,
      "outputs": []
    },
    {
      "cell_type": "code",
      "source": [
        "# P-C Curve 2\n",
        "# plot no skill and model precision-recall curves\n",
        "def plot_pr_curve(test_y, model_probs):\n",
        "\t# calculate the no skill line as the proportion of the positive class\n",
        "\tno_skill = len(test_y[test_y==1]) / len(test_y)\n",
        "\t# plot the no skill precision-recall curve\n",
        "\tpyplot.plot([0, 1], [no_skill, no_skill], linestyle='--', label='No Skill')\n",
        "\t# plot model precision-recall curve\n",
        "\tprecision, recall, _ = precision_recall_curve(test_y, model_probs)\n",
        "\tpyplot.plot(recall, precision, marker='.', label='Precision-Recall')\n",
        "\t# axis labels\n",
        "\tpyplot.xlabel('Recall')\n",
        "\tpyplot.ylabel('Precision')\n",
        "\t# show the legend\n",
        "\tpyplot.legend()\n",
        "\t# show the plot\n",
        "\tpyplot.show()\n",
        "\n",
        "# no skill model, stratified random class predictions\n",
        "model1 = DummyClassifier(strategy='stratified')\n",
        "model1.fit(x_test, y_test)\n",
        "yhat = model1.predict_proba(x_test)\n",
        "naive_probs = yhat[:, 1]\n",
        "# calculate the precision-recall auc\n",
        "precision, recall, _ = precision_recall_curve(y_test, naive_probs)\n",
        "auc_score = auc(recall, precision)\n",
        "print('No Skill PR AUC: %.3f' % auc_score)\n",
        "# fit a model\n",
        "yhat = model.predict(x_test)\n",
        "model_probs = yhat[:, 0]\n",
        "# calculate the precision-recall auc\n",
        "precision, recall, _ = precision_recall_curve(y_test, model_probs)\n",
        "auc_score = auc(recall, precision)\n",
        "print('CNN AUC: %.3f' % auc_score)\n",
        "# plot precision-recall curves\n",
        "plot_pr_curve(y_test, model_probs)\n",
        "plt.savefig(os.path.join(datapath, 'PR_curve.png'))"
      ],
      "metadata": {
        "id": "bMePvyy_1Ogz"
      },
      "execution_count": null,
      "outputs": []
    },
    {
      "cell_type": "code",
      "source": [
        "from sklearn.metrics import accuracy_score\n",
        "from sklearn.metrics import precision_score\n",
        "from sklearn.metrics import recall_score\n",
        "from sklearn.metrics import f1_score\n",
        "from sklearn.metrics import cohen_kappa_score\n",
        "from sklearn.metrics import roc_auc_score\n",
        "from sklearn.metrics import confusion_matrix\n",
        "\n",
        "yhat_probs = model.predict(x_test, verbose=0)\n",
        "# predict crisp classes for test set\n",
        "yhat_classes = model.predict_classes(x_test, verbose=0)\n",
        "\n",
        "yhat_probs = yhat_probs[:, 0]\n",
        "yhat_classes = yhat_classes[:, 0]\n",
        "\n",
        "\n",
        "# precision tp / (tp + fp)\n",
        "precision = precision_score(y_test, yhat_classes)\n",
        "print('Precision: %f' % precision)\n",
        "# recall: tp / (tp + fn)\n",
        "recall = recall_score(y_test, yhat_classes)\n",
        "print('Recall: %f' % recall)\n",
        "# f1: 2 tp / (2 tp + fp + fn)\n",
        "f1 = f1_score(y_test, yhat_classes)\n",
        "print('F1 score: %f' % f1)\n",
        "\n",
        "# kappa\n",
        "kappa = cohen_kappa_score(y_test, yhat_classes)\n",
        "print('Cohens kappa: %f' % kappa)\n"
      ],
      "metadata": {
        "id": "sAxqp7XU1VM8"
      },
      "execution_count": null,
      "outputs": []
    },
    {
      "cell_type": "markdown",
      "source": [
        "# Traditional machine learning model"
      ],
      "metadata": {
        "id": "ybjYZH4oixY6"
      }
    },
    {
      "cell_type": "markdown",
      "source": [
        "We've already see the performance of deep learning models. To better support these models, we built tradtional machine learning models here. SVM is the most common and get the best result here. So we will only show the related code."
      ],
      "metadata": {
        "id": "9c9SS0zNi363"
      }
    },
    {
      "cell_type": "markdown",
      "source": [
        "## SVM with data augmentation"
      ],
      "metadata": {
        "id": "tRXfYcHQAmmI"
      }
    },
    {
      "cell_type": "code",
      "source": [
        "tar_path_train_bad = r'MyDrive/DTI-paper/whole_bad_train'\n",
        "tar_path_train_good = r'MyDrive/DTI-paper/whole_good_train'\n",
        "\n",
        "tar_path_test_bad = r'MyDrive/DTI-paper/whole_bad_test'\n",
        "tar_path_test_good = r'My Drive/DTI-paper/whole_good_test'\n",
        "\n",
        "tar_path_val_bad = r'MyDrive/DTI-paper/whole_bad_val'\n",
        "tar_path_val_good = r'MyDrive/DTI-paper/whole_good_val'\n",
        "\n",
        "\n",
        "tar_path_train_bad = os.path.join(rootpath,tar_path_train_bad)\n",
        "tar_path_train_good = os.path.join(rootpath,tar_path_train_good)\n",
        "tar_path_test_bad = os.path.join(rootpath,tar_path_test_bad)\n",
        "tar_path_test_good = os.path.join(rootpath,tar_path_test_good)\n",
        "tar_path_val_bad = os.path.join(rootpath,tar_path_val_bad)\n",
        "tar_path_val_good = os.path.join(rootpath,tar_path_val_good)\n",
        "\n",
        "os.chdir(tar_path_train_bad)\n",
        "os.chdir(tar_path_train_good)\n",
        "os.chdir(tar_path_test_bad)\n",
        "os.chdir(tar_path_test_good)\n",
        "os.chdir(tar_path_train_bad)\n",
        "os.chdir(tar_path_val_bad)"
      ],
      "metadata": {
        "id": "qDAnVl2WXeJl"
      },
      "execution_count": null,
      "outputs": []
    },
    {
      "cell_type": "code",
      "source": [
        "print(len(os.listdir(tar_path_val_bad)))\n",
        "print(len(os.listdir(tar_path_val_good)))\n",
        "print(len(os.listdir(tar_path_train_bad)))\n",
        "print(len(os.listdir(tar_path_train_good)))\n",
        "print(len(os.listdir(tar_path_test_bad)))\n",
        "print(len(os.listdir(tar_path_test_good)))"
      ],
      "metadata": {
        "colab": {
          "base_uri": "https://localhost:8080/"
        },
        "id": "6AU0bFVyXeu3",
        "outputId": "d65adcd2-02bd-4696-97d8-813b09568254"
      },
      "execution_count": null,
      "outputs": [
        {
          "output_type": "stream",
          "name": "stdout",
          "text": [
            "448\n",
            "4116\n",
            "1768\n",
            "16467\n",
            "552\n",
            "5145\n"
          ]
        }
      ]
    },
    {
      "cell_type": "code",
      "source": [
        "import cv2\n",
        "from scipy import ndimage\n",
        "IMG_SIZE = 96\n",
        "x_train = []\n",
        "y_train = []\n",
        "for img in os.listdir(tar_path_train_bad):\n",
        "  img_array=cv2.imread(os.path.join(tar_path_train_bad,img))\n",
        "  new_array=cv2.resize(img_array,(IMG_SIZE,IMG_SIZE))\n",
        "  x_train.append(new_array)\n",
        "  y_train.append(0)\n",
        "\n",
        "for img in os.listdir(tar_path_train_good):\n",
        "  img_array=cv2.imread(os.path.join(tar_path_train_good,img))\n",
        "  new_array=cv2.resize(img_array,(IMG_SIZE,IMG_SIZE))\n",
        "  x_train.append(new_array)\n",
        "  y_train.append(1)"
      ],
      "metadata": {
        "id": "PqXmvb3XjyzY"
      },
      "execution_count": null,
      "outputs": []
    },
    {
      "cell_type": "code",
      "source": [
        "x_test = []\n",
        "y_test = []\n",
        "for img in os.listdir(tar_path_test_bad):\n",
        "  img_array=cv2.imread(os.path.join(tar_path_test_bad,img))\n",
        "  new_array=cv2.resize(img_array,(IMG_SIZE,IMG_SIZE))\n",
        "  x_test.append(new_array)\n",
        "  y_test.append(0)\n",
        "\n",
        "for img in os.listdir(tar_path_test_good):\n",
        "  img_array=cv2.imread(os.path.join(tar_path_test_good,img))\n",
        "  new_array=cv2.resize(img_array,(IMG_SIZE,IMG_SIZE))\n",
        "  x_test.append(new_array)\n",
        "  y_test.append(1)"
      ],
      "metadata": {
        "id": "gl5_1dCxrKQv"
      },
      "execution_count": null,
      "outputs": []
    },
    {
      "cell_type": "code",
      "source": [
        "x_train = np.array(x_train)\n",
        "y_train = np.array(y_train)"
      ],
      "metadata": {
        "id": "t1BX6mhfmTER"
      },
      "execution_count": null,
      "outputs": []
    },
    {
      "cell_type": "code",
      "source": [
        "x_test = np.array(x_test)\n",
        "y_test = np.array(y_test)"
      ],
      "metadata": {
        "id": "Ba6OjYcJsxiR"
      },
      "execution_count": null,
      "outputs": []
    },
    {
      "cell_type": "code",
      "source": [
        "## augmentation on imbalanced data for training\n",
        "from scipy import ndimage, misc\n",
        "import matplotlib.pyplot as plt\n",
        "\n",
        "import random\n",
        "\n",
        "approach = 'approach1'\n",
        "ratio = 0.4\n",
        "if approach == 'approach1':\n",
        "    # print('x_train.shape', x_train.shape)\n",
        "    # print(x_train)\n",
        "\n",
        "    len_class_0 = sum(y_train==0)\n",
        "    len_class_1 = sum(y_train==1)\n",
        "    # print('class 0',len_class_0)\n",
        "    # print('class 1',len_class_1)\n",
        "\n",
        "    # ratio = 0.4   # the ratio determines the probability of negative samples\n",
        "    num_sample = int(len_class_1*ratio/(1-ratio))-len_class_0 ## how many images we need to increase\n",
        "    # print('Increased class 0 number is :', num_sample)\n",
        "\n",
        "    select_slices_sum = num_sample/10 ## total 10 rotations degreees, this shows how many slices we need to select\n",
        "\n",
        "    class_0_index = np.argwhere(y_train == 0)\n",
        "    class_0_index = np.squeeze(class_0_index) ## array of index of all bad slices within whole training set\n",
        "    # print(class_0_index)\n",
        "\n",
        "    def rotation(arr,degree):\n",
        "        new_arr = ndimage.rotate(arr, degree, reshape=False)\n",
        "        return new_arr\n",
        "\n",
        "    # def gasuss_noise(arr, mean=0, var=0.001):\n",
        "    #     noise = np.random.normal(mean, var ** 0.5, arr.shape)\n",
        "    #     new_arr = arr + noise\n",
        "    #     return new_arr\n",
        "\n",
        "    # def flipLR(arr):\n",
        "    #     new_arr = np.fliplr(arr)\n",
        "    #     return new_arr\n",
        "    # aug_strategies = ['flip180','flipLR','gasuss_noise','none']\n",
        "    degrees = [-5,-4,-3,-2,-1,1,2,3,4,5] ##0-9 index\n",
        "    print('select_slices_sum',select_slices_sum)\n",
        "    # random_index = random_arry[]\n",
        "    # for i in random_index:\n",
        "    #     y_train_sample_index = class_0_index[i]\n",
        "    random_index = random.sample(range(0,len_class_0),int(select_slices_sum)) ## randomly generated 912 indices within 1768 bad slices \n",
        "    print('random_index',len(random_index))\n",
        "\n",
        "    for i in random_index: ## traverse every randomly selected image index\n",
        "        # y_train_sample_index = random.choice(class_0_index)\n",
        "        y_train_sample_index = class_0_index[i] ## get corresponding index of bad slice within the whole training set\n",
        "        sampled_img = x_train[y_train_sample_index,:,:,:]\n",
        "        # print('sampled_img.shape', sampled_img.shape)\n",
        "        # print('select index:',y_train_sample_index)\n",
        "\n",
        "        for j in range(10): ## every image increase 10 images\n",
        "          aug = degrees[j]\n",
        "          # aug = random.choice(degrees)\n",
        "          # print(aug)\n",
        "          sampled_img_new = rotation(sampled_img,aug)\n",
        "        # if aug == 'flip180':\n",
        "        #     sampled_img_new = flip180(sampled_img)\n",
        "        # elif aug == 'flipLR':\n",
        "        #     sampled_img_new = flipLR(sampled_img)\n",
        "        # elif aug == 'gasuss_noise':\n",
        "        #     sampled_img_new = gasuss_noise(sampled_img)\n",
        "        # else:\n",
        "        #     sampled_img_new = sampled_img\n",
        "\n",
        "          # print('sampled_img.shape', sampled_img.shape)\n",
        "          sampled_img_new = sampled_img_new[np.newaxis,]\n",
        "          # print('sampled_img_new.shape', sampled_img_new.shape)\n",
        "          x_train = np.concatenate([x_train, sampled_img_new], axis=0)\n",
        "\n",
        "          y_train = np.concatenate([y_train, [0]], axis=0)\n",
        "\n",
        "if approach == 'approach2':\n",
        "    count=0\n",
        "    # print('x_train.shape', x_train.shape)\n",
        "    len_class_0 = sum(y_train==0)\n",
        "    len_class_1 = sum(y_train==1)\n",
        "    print('class 0',len_class_0)\n",
        "    print('class 1',len_class_1)\n",
        "\n",
        "    # ratio = 0.5   # the ratio determines the probability of negative samples\n",
        "    num_sample = int(len_class_1*ratio/(1-ratio))-len_class_0 ## how many images we need to increase\n",
        "    print('Increased class 0 number is :', num_sample)\n",
        "\n",
        "    whole_group_1_degrees = int(num_sample/len_class_0)  ## how many augs every image need to increase (whole bad slices)\n",
        "    seperate_group_2 = num_sample-whole_group_1_degrees*len_class_0 ## how many remaining slices need to be augmented\n",
        "\n",
        "    class_0_index = np.argwhere(y_train == 0)\n",
        "    class_0_index = np.squeeze(class_0_index) ## array of index of all bad slices within whole training set\n",
        "    # print(class_0_index)\n",
        "\n",
        "    def rotation(arr,degree):\n",
        "        new_arr = ndimage.rotate(arr, degree, reshape=False)\n",
        "        return new_arr\n",
        "    \n",
        "    degrees = [-5,-4,-3,-2,-1,1,2,3,4,5] ##0-9 index\n",
        "\n",
        "    random_index_whole_group_degree = random.sample(range(0,10),int(whole_group_1_degrees)) ## randomly generated ~x degrees within total 10 degree\n",
        "    select_degrees = []\n",
        "    print('first part',random_index_whole_group_degree)\n",
        "    for i in class_0_index:   ## traverse every bad image within the whole training set\n",
        "      sampled_img = x_train[i,:,:,:]\n",
        "      # print('sampled_img.shape', sampled_img.shape)\n",
        "      # print('select index:',i)\n",
        "\n",
        "      for j in random_index_whole_group_degree:\n",
        "        aug_degree = degrees[j]\n",
        "        select_degrees.append(aug_degree)\n",
        "        # print(aug_degree)\n",
        "        sampled_img_new = rotation(sampled_img,aug_degree)\n",
        "\n",
        "        # print('sampled_img.shape', sampled_img.shape)\n",
        "        sampled_img_new = sampled_img_new[np.newaxis,]\n",
        "        # print('sampled_img_new.shape', sampled_img_new.shape)\n",
        "        count+=1\n",
        "        x_train = np.concatenate([x_train, sampled_img_new], axis=0)\n",
        "        y_train = np.concatenate([y_train, [0]], axis=0)\n",
        "    \n",
        "    random_index = random.sample(range(0,len_class_0),int(seperate_group_2)) ## randomly generated remaining number indices within 1768 bad slices \n",
        "    remain_degrees = [item for item in degrees if item not in select_degrees]\n",
        "\n",
        "    # print('random_index',random_index)\n",
        "    # print('remain_degrees',remain_degrees)\n",
        "    for i in random_index: ## traverse every randomly selected image index\n",
        "        y_train_sample_index = class_0_index[i] ## get corresponding index of bad slice within the whole training set\n",
        "        sampled_img = x_train[y_train_sample_index,:,:,:]\n",
        "        # print('sampled_img.shape', sampled_img.shape)\n",
        "        # print('select index:',y_train_sample_index)\n",
        "\n",
        "        \n",
        "        aug = random.choice(remain_degrees)\n",
        "        print(aug)\n",
        "        sampled_img_new = rotation(sampled_img,aug)\n",
        "        # print('sampled_img.shape', sampled_img.shape)\n",
        "        # sampled_img_new = sampled_img_new[np.newaxis,]\n",
        "        # print('sampled_img_new.shape', sampled_img_new.shape)\n",
        "        count+=1\n",
        "        x_train = np.concatenate([x_train, sampled_img_new], axis=0)\n",
        "        y_train = np.concatenate([y_train, [0]], axis=0)\n",
        "\n",
        "print('*********finished***********')"
      ],
      "metadata": {
        "id": "SpZ5BqznYfMF",
        "colab": {
          "base_uri": "https://localhost:8080/"
        },
        "outputId": "f90dbc62-3f37-4fa0-edc7-fa8b67fd220d"
      },
      "execution_count": null,
      "outputs": [
        {
          "output_type": "stream",
          "name": "stdout",
          "text": [
            "select_slices_sum 921.0\n",
            "random_index 921\n",
            "*********finished***********\n"
          ]
        }
      ]
    },
    {
      "cell_type": "code",
      "source": [
        "###***************          VERY IMPORTANT!!!! For switching the label, postive class for bad slices(label 1),negative class for good slices(label 0)\n",
        "## ***************     Reference here: https://machinelearningmastery.com/roc-curves-and-precision-recall-curves-for-imbalanced-classification/\n",
        "\n",
        "def reverse_array(arrr):\n",
        "  for i in range(len(arrr)):\n",
        "    if arrr[i]==0:\n",
        "      arrr[i]=1\n",
        "    else:\n",
        "      arrr[i]=0\n",
        "reverse_array(y_train)\n",
        "# reverse_array(y_val)\n",
        "reverse_array(y_test)"
      ],
      "metadata": {
        "id": "naS--Te5Yih1"
      },
      "execution_count": null,
      "outputs": []
    },
    {
      "cell_type": "code",
      "source": [
        "## check the current label ratio before sending to the model\n",
        "### bad\n",
        "print(\"Train Proportion:\", sum(y_train == 1) / len(y_train))\n",
        "# print(\"Val Proportion:\", sum(y_val == 1) / len(y_val))\n",
        "print(\"Test Proportion:\", sum(y_test == 1) / len(y_test))"
      ],
      "metadata": {
        "id": "rq8cnjNfYkns",
        "colab": {
          "base_uri": "https://localhost:8080/"
        },
        "outputId": "278938f8-feb7-4457-87e7-f2b180399e76"
      },
      "execution_count": null,
      "outputs": [
        {
          "output_type": "stream",
          "name": "stdout",
          "text": [
            "Train Proportion: 0.4\n",
            "Test Proportion: 0.09689310163243813\n"
          ]
        }
      ]
    },
    {
      "cell_type": "code",
      "source": [
        "nums = x_train.shape[0]\n",
        "tmp = np.reshape(x_train,(nums,-1))\n",
        "pd.DataFrame(tmp).to_csv(\"x_train'.csv\")"
      ],
      "metadata": {
        "id": "3DMwaZfixzmf"
      },
      "execution_count": null,
      "outputs": []
    },
    {
      "cell_type": "code",
      "source": [
        "pd.DataFrame(y_test).to_csv(\"y_train'.csv\")"
      ],
      "metadata": {
        "id": "hcuoI8Ocf6qT"
      },
      "execution_count": null,
      "outputs": []
    },
    {
      "cell_type": "code",
      "source": [
        "nums2 = x_test.shape[0]\n",
        "tmp2 = np.reshape(x_test,(nums2,-1))\n",
        "np.savetxt(\"x_test.csv\", tmp2, delimiter=\",\")"
      ],
      "metadata": {
        "id": "GO-82TpN2SC6"
      },
      "execution_count": null,
      "outputs": []
    },
    {
      "cell_type": "code",
      "source": [
        "pd.DataFrame(y_test).to_csv(\"y_test.csv\")"
      ],
      "metadata": {
        "id": "Gkkf-4RU2gwO"
      },
      "execution_count": null,
      "outputs": []
    },
    {
      "cell_type": "code",
      "source": [
        "from sklearn import svm\n",
        "clf = svm.SVC()\n",
        "clf.fit(tmp, y_train)"
      ],
      "metadata": {
        "id": "F8GySb0jba-f",
        "colab": {
          "base_uri": "https://localhost:8080/"
        },
        "outputId": "65201d6f-4943-4c7d-fc9b-cb775e7b5171"
      },
      "execution_count": null,
      "outputs": [
        {
          "output_type": "execute_result",
          "data": {
            "text/plain": [
              "SVC()"
            ]
          },
          "metadata": {},
          "execution_count": 26
        }
      ]
    },
    {
      "cell_type": "code",
      "source": [
        "y_pred = clf.predict(tmp2)"
      ],
      "metadata": {
        "id": "M5RTWPsDphGx"
      },
      "execution_count": null,
      "outputs": []
    },
    {
      "cell_type": "code",
      "source": [
        "from sklearn.metrics import precision_score, recall_score, f1_score, accuracy_score\n",
        "print('Recall: %.3f' % recall_score(y_test, y_pred))\n",
        "print('Precision: %.3f' % precision_score(y_test, y_pred))\n",
        "print('F1 Score: %.3f' % f1_score(y_test, y_pred))"
      ],
      "metadata": {
        "id": "o1o6J4dOsQBT",
        "colab": {
          "base_uri": "https://localhost:8080/"
        },
        "outputId": "f43cab45-7b48-405e-e7f6-056e6905214a"
      },
      "execution_count": null,
      "outputs": [
        {
          "output_type": "stream",
          "name": "stdout",
          "text": [
            "Recall: 0.752\n",
            "Precision: 0.797\n",
            "F1 Score: 0.774\n"
          ]
        }
      ]
    },
    {
      "cell_type": "markdown",
      "source": [
        "## SVM without data augmentation"
      ],
      "metadata": {
        "id": "c7rfwY6f--KY"
      }
    },
    {
      "cell_type": "markdown",
      "source": [
        "### Do not add validation dateset to training set"
      ],
      "metadata": {
        "id": "zDj9zBWKwB6N"
      }
    },
    {
      "cell_type": "code",
      "source": [
        "tar_path_train_bad = r'MyDrive/DTI-paper/whole_bad_train'\n",
        "tar_path_train_good = r'MyDrive/DTI-paper/whole_good_train'\n",
        "\n",
        "tar_path_test_bad = r'MyDrive/DTI-paper/whole_bad_test'\n",
        "tar_path_test_good = r'My Drive/DTI-paper/whole_good_test'\n",
        "\n",
        "tar_path_val_bad = r'MyDrive/DTI-paper/whole_bad_val'\n",
        "tar_path_val_good = r'MyDrive/DTI-paper/whole_good_val'\n",
        "\n",
        "\n",
        "tar_path_train_bad = os.path.join(rootpath,tar_path_train_bad)\n",
        "tar_path_train_good = os.path.join(rootpath,tar_path_train_good)\n",
        "tar_path_test_bad = os.path.join(rootpath,tar_path_test_bad)\n",
        "tar_path_test_good = os.path.join(rootpath,tar_path_test_good)\n",
        "tar_path_val_bad = os.path.join(rootpath,tar_path_val_bad)\n",
        "tar_path_val_good = os.path.join(rootpath,tar_path_val_good)\n",
        "\n",
        "os.chdir(tar_path_train_bad)\n",
        "os.chdir(tar_path_train_good)\n",
        "os.chdir(tar_path_test_bad)\n",
        "os.chdir(tar_path_test_good)\n",
        "os.chdir(tar_path_train_bad)\n",
        "os.chdir(tar_path_val_bad)"
      ],
      "metadata": {
        "id": "Sxzk6s5R_BXV"
      },
      "execution_count": null,
      "outputs": []
    },
    {
      "cell_type": "code",
      "source": [
        "print(len(os.listdir(tar_path_val_bad)))\n",
        "print(len(os.listdir(tar_path_val_good)))\n",
        "print(len(os.listdir(tar_path_train_bad)))\n",
        "print(len(os.listdir(tar_path_train_good)))\n",
        "print(len(os.listdir(tar_path_test_bad)))\n",
        "print(len(os.listdir(tar_path_test_good)))"
      ],
      "metadata": {
        "colab": {
          "base_uri": "https://localhost:8080/"
        },
        "id": "DMgfi52K_HcK",
        "outputId": "8cbc1845-3afd-48a3-d0f3-b06ce7e2720c"
      },
      "execution_count": null,
      "outputs": [
        {
          "output_type": "stream",
          "name": "stdout",
          "text": [
            "452\n",
            "4116\n",
            "1768\n",
            "16467\n",
            "552\n",
            "5145\n"
          ]
        }
      ]
    },
    {
      "cell_type": "code",
      "source": [
        "import cv2\n",
        "from scipy import ndimage\n",
        "IMG_SIZE = 96\n",
        "x_train = []\n",
        "y_train = []\n",
        "for img in os.listdir(tar_path_train_bad):\n",
        "  img_array=cv2.imread(os.path.join(tar_path_train_bad,img))\n",
        "  new_array=cv2.resize(img_array,(IMG_SIZE,IMG_SIZE))\n",
        "  x_train.append(new_array)\n",
        "  y_train.append(0)\n",
        "\n",
        "for img in os.listdir(tar_path_train_good):\n",
        "  img_array=cv2.imread(os.path.join(tar_path_train_good,img))\n",
        "  new_array=cv2.resize(img_array,(IMG_SIZE,IMG_SIZE))\n",
        "  x_train.append(new_array)\n",
        "  y_train.append(1)"
      ],
      "metadata": {
        "id": "xhBZLShf_KJF"
      },
      "execution_count": null,
      "outputs": []
    },
    {
      "cell_type": "code",
      "source": [
        "x_test = []\n",
        "y_test = []\n",
        "for img in os.listdir(tar_path_test_bad):\n",
        "  img_array=cv2.imread(os.path.join(tar_path_test_bad,img))\n",
        "  new_array=cv2.resize(img_array,(IMG_SIZE,IMG_SIZE))\n",
        "  x_test.append(new_array)\n",
        "  y_test.append(0)\n",
        "\n",
        "for img in os.listdir(tar_path_test_good):\n",
        "  img_array=cv2.imread(os.path.join(tar_path_test_good,img))\n",
        "  new_array=cv2.resize(img_array,(IMG_SIZE,IMG_SIZE))\n",
        "  x_test.append(new_array)\n",
        "  y_test.append(1)"
      ],
      "metadata": {
        "id": "aQjIAWgm_KnD"
      },
      "execution_count": null,
      "outputs": []
    },
    {
      "cell_type": "code",
      "source": [
        "x_train = np.array(x_train)\n",
        "y_train = np.array(y_train)"
      ],
      "metadata": {
        "id": "PfOlubBl_MvP"
      },
      "execution_count": null,
      "outputs": []
    },
    {
      "cell_type": "code",
      "source": [
        "x_test = np.array(x_test)\n",
        "y_test = np.array(y_test)"
      ],
      "metadata": {
        "id": "G27X75iK_Oun"
      },
      "execution_count": null,
      "outputs": []
    },
    {
      "cell_type": "code",
      "source": [
        "def reverse_array(arrr):\n",
        "  for i in range(len(arrr)):\n",
        "    if arrr[i]==0:\n",
        "      arrr[i]=1\n",
        "    else:\n",
        "      arrr[i]=0\n",
        "reverse_array(y_train)\n",
        "# reverse_array(y_val)\n",
        "reverse_array(y_test)"
      ],
      "metadata": {
        "id": "E5qmxrVv_Th6"
      },
      "execution_count": null,
      "outputs": []
    },
    {
      "cell_type": "code",
      "source": [
        "## check the current label ratio before sending to the model\n",
        "### bad\n",
        "print(\"Train Proportion:\", sum(y_train == 1) / len(y_train))\n",
        "# print(\"Val Proportion:\", sum(y_val == 1) / len(y_val))\n",
        "print(\"Test Proportion:\", sum(y_test == 1) / len(y_test))"
      ],
      "metadata": {
        "colab": {
          "base_uri": "https://localhost:8080/"
        },
        "id": "jc5-8pnx_VLI",
        "outputId": "52914b12-c819-4626-f335-621a6671e5e5"
      },
      "execution_count": null,
      "outputs": [
        {
          "output_type": "stream",
          "name": "stdout",
          "text": [
            "Train Proportion: 0.09695640252262133\n",
            "Test Proportion: 0.09689310163243813\n"
          ]
        }
      ]
    },
    {
      "cell_type": "code",
      "source": [
        "nums = x_train.shape[0]\n",
        "tmp = np.reshape(x_train,(nums,-1))\n",
        "# pd.DataFrame(tmp).to_csv(\"x_train.csv\")\n",
        "# pd.DataFrame(y_test).to_csv(\"y_train.csv\")"
      ],
      "metadata": {
        "id": "KnZWlr0L_Xba"
      },
      "execution_count": null,
      "outputs": []
    },
    {
      "cell_type": "code",
      "source": [
        "nums2 = x_test.shape[0]\n",
        "tmp2 = np.reshape(x_test,(nums2,-1))\n",
        "# np.savetxt(\"x_test.csv\", tmp2, delimiter=\",\")\n",
        "# pd.DataFrame(y_test).to_csv(\"y_test.csv\")"
      ],
      "metadata": {
        "id": "0VSHJzJT_bHW"
      },
      "execution_count": null,
      "outputs": []
    },
    {
      "cell_type": "code",
      "source": [
        "from sklearn import svm\n",
        "clf = svm.SVC()\n",
        "clf.fit(tmp, y_train)"
      ],
      "metadata": {
        "colab": {
          "base_uri": "https://localhost:8080/"
        },
        "id": "hrom_EtY_iFu",
        "outputId": "5fe978c0-2357-4dfc-aa52-75465aa5b33d"
      },
      "execution_count": null,
      "outputs": [
        {
          "output_type": "execute_result",
          "data": {
            "text/plain": [
              "SVC()"
            ]
          },
          "metadata": {},
          "execution_count": 16
        }
      ]
    },
    {
      "cell_type": "code",
      "source": [
        "y_pred = clf.predict(tmp2)\n",
        "y_train_pred = clf.predict(tmp)"
      ],
      "metadata": {
        "id": "xkk4gBkn_kB9"
      },
      "execution_count": null,
      "outputs": []
    },
    {
      "cell_type": "code",
      "source": [
        "from sklearn.metrics import precision_score, recall_score, f1_score, accuracy_score\n",
        "print('########### train ############')\n",
        "print('Recall: %.3f' % recall_score(y_train, y_train_pred))\n",
        "print('Precision: %.3f' % precision_score(y_train, y_train_pred))\n",
        "print('F1 Score: %.3f' % f1_score(y_train, y_train_pred))\n",
        "\n",
        "print('########### test ############')\n",
        "print('Recall: %.3f' % recall_score(y_test, y_pred))\n",
        "print('Precision: %.3f' % precision_score(y_test, y_pred))\n",
        "print('F1 Score: %.3f' % f1_score(y_test, y_pred))"
      ],
      "metadata": {
        "id": "j-K7DFyU_kk2",
        "colab": {
          "base_uri": "https://localhost:8080/"
        },
        "outputId": "77bef2c7-15e9-4dcd-96c8-adfed6236758"
      },
      "execution_count": null,
      "outputs": [
        {
          "output_type": "stream",
          "name": "stdout",
          "text": [
            "########### train ############\n",
            "Recall: 0.471\n",
            "Precision: 0.994\n",
            "F1 Score: 0.639\n",
            "########### test ############\n",
            "Recall: 0.458\n",
            "Precision: 0.992\n",
            "F1 Score: 0.627\n"
          ]
        }
      ]
    },
    {
      "cell_type": "markdown",
      "source": [
        "### Add validation dateset to training set\n"
      ],
      "metadata": {
        "id": "LjxYpstQwHLM"
      }
    },
    {
      "cell_type": "code",
      "source": [
        "tar_path_train_bad = r'MyDrive/DTI-paper/whole_bad_train'\n",
        "tar_path_train_good = r'MyDrive/DTI-paper/whole_good_train'\n",
        "\n",
        "tar_path_test_bad = r'MyDrive/DTI-paper/whole_bad_test'\n",
        "tar_path_test_good = r'My Drive/DTI-paper/whole_good_test'\n",
        "\n",
        "tar_path_val_bad = r'MyDrive/DTI-paper/whole_bad_val'\n",
        "tar_path_val_good = r'MyDrive/DTI-paper/whole_good_val'\n",
        "\n",
        "\n",
        "tar_path_train_bad = os.path.join(rootpath,tar_path_train_bad)\n",
        "tar_path_train_good = os.path.join(rootpath,tar_path_train_good)\n",
        "tar_path_test_bad = os.path.join(rootpath,tar_path_test_bad)\n",
        "tar_path_test_good = os.path.join(rootpath,tar_path_test_good)\n",
        "tar_path_val_bad = os.path.join(rootpath,tar_path_val_bad)\n",
        "tar_path_val_good = os.path.join(rootpath,tar_path_val_good)\n",
        "\n",
        "os.chdir(tar_path_train_bad)\n",
        "os.chdir(tar_path_train_good)\n",
        "os.chdir(tar_path_test_bad)\n",
        "os.chdir(tar_path_test_good)\n",
        "os.chdir(tar_path_train_bad)\n",
        "os.chdir(tar_path_val_bad)"
      ],
      "metadata": {
        "id": "XJs3RPcxwNz-"
      },
      "execution_count": null,
      "outputs": []
    },
    {
      "cell_type": "code",
      "source": [
        "print(len(os.listdir(tar_path_val_bad)))\n",
        "print(len(os.listdir(tar_path_val_good)))\n",
        "print(len(os.listdir(tar_path_train_bad)))\n",
        "print(len(os.listdir(tar_path_train_good)))\n",
        "print(len(os.listdir(tar_path_test_bad)))\n",
        "print(len(os.listdir(tar_path_test_good)))"
      ],
      "metadata": {
        "colab": {
          "base_uri": "https://localhost:8080/"
        },
        "id": "1qB2Jvu0wP6n",
        "outputId": "01dcf532-6c7f-44a2-c9ba-db78843edec7"
      },
      "execution_count": null,
      "outputs": [
        {
          "output_type": "stream",
          "name": "stdout",
          "text": [
            "452\n",
            "4116\n",
            "1768\n",
            "16467\n",
            "552\n",
            "5145\n"
          ]
        }
      ]
    },
    {
      "cell_type": "code",
      "source": [
        "import cv2\n",
        "from scipy import ndimage\n",
        "IMG_SIZE = 96\n",
        "x_train = []\n",
        "y_train = []\n",
        "for img in os.listdir(tar_path_train_bad):\n",
        "  img_array=cv2.imread(os.path.join(tar_path_train_bad,img))\n",
        "  new_array=cv2.resize(img_array,(IMG_SIZE,IMG_SIZE))\n",
        "  x_train.append(new_array)\n",
        "  y_train.append(0)\n",
        "\n",
        "for img in os.listdir(tar_path_train_good):\n",
        "  img_array=cv2.imread(os.path.join(tar_path_train_good,img))\n",
        "  new_array=cv2.resize(img_array,(IMG_SIZE,IMG_SIZE))\n",
        "  x_train.append(new_array)\n",
        "  y_train.append(1)\n",
        "\n",
        "\n",
        "for img in os.listdir(tar_path_val_good):\n",
        "  img_array=cv2.imread(os.path.join(tar_path_val_good,img))\n",
        "  new_array=cv2.resize(img_array,(IMG_SIZE,IMG_SIZE))\n",
        "  x_train.append(new_array)\n",
        "  y_train.append(1)\n",
        "\n",
        "for img in os.listdir(tar_path_val_bad):\n",
        "  if '.jpeg' in img:\n",
        "    img_array=cv2.imread(os.path.join(tar_path_val_bad,img))\n",
        "    new_array=cv2.resize(img_array,(IMG_SIZE,IMG_SIZE))\n",
        "    x_train.append(new_array)\n",
        "    y_train.append(0)"
      ],
      "metadata": {
        "id": "Y4U5LNklwUTJ"
      },
      "execution_count": null,
      "outputs": []
    },
    {
      "cell_type": "code",
      "source": [
        "x_test = []\n",
        "y_test = []\n",
        "for img in os.listdir(tar_path_test_bad):\n",
        "  img_array=cv2.imread(os.path.join(tar_path_test_bad,img))\n",
        "  new_array=cv2.resize(img_array,(IMG_SIZE,IMG_SIZE))\n",
        "  x_test.append(new_array)\n",
        "  y_test.append(0)\n",
        "\n",
        "for img in os.listdir(tar_path_test_good):\n",
        "  img_array=cv2.imread(os.path.join(tar_path_test_good,img))\n",
        "  new_array=cv2.resize(img_array,(IMG_SIZE,IMG_SIZE))\n",
        "  x_test.append(new_array)\n",
        "  y_test.append(1)"
      ],
      "metadata": {
        "id": "zKJDhZ9ywWUi"
      },
      "execution_count": null,
      "outputs": []
    },
    {
      "cell_type": "code",
      "source": [
        "x_train = np.array(x_train)\n",
        "y_train = np.array(y_train)\n",
        "\n",
        "x_test = np.array(x_test)\n",
        "y_test = np.array(y_test)"
      ],
      "metadata": {
        "id": "LnPDEk8vwZnP"
      },
      "execution_count": null,
      "outputs": []
    },
    {
      "cell_type": "code",
      "source": [
        "def reverse_array(arrr):\n",
        "  for i in range(len(arrr)):\n",
        "    if arrr[i]==0:\n",
        "      arrr[i]=1\n",
        "    else:\n",
        "      arrr[i]=0\n",
        "reverse_array(y_train)\n",
        "# reverse_array(y_val)\n",
        "reverse_array(y_test)"
      ],
      "metadata": {
        "id": "iyiQd26Cwc5q"
      },
      "execution_count": null,
      "outputs": []
    },
    {
      "cell_type": "code",
      "source": [
        "## check the current label ratio before sending to the model\n",
        "### bad\n",
        "print(\"Train Proportion:\", sum(y_train == 1) / len(y_train))\n",
        "# print(\"Val Proportion:\", sum(y_val == 1) / len(y_val))\n",
        "print(\"Test Proportion:\", sum(y_test == 1) / len(y_test))"
      ],
      "metadata": {
        "colab": {
          "base_uri": "https://localhost:8080/"
        },
        "id": "f5PHo18iwitA",
        "outputId": "00974f55-aee3-4f19-cb7d-6db5a1fa93a0"
      },
      "execution_count": null,
      "outputs": [
        {
          "output_type": "stream",
          "name": "stdout",
          "text": [
            "Train Proportion: 0.09695959285745624\n",
            "Test Proportion: 0.09689310163243813\n"
          ]
        }
      ]
    },
    {
      "cell_type": "code",
      "source": [
        "nums = x_train.shape[0]\n",
        "tmp = np.reshape(x_train,(nums,-1))\n",
        "\n",
        "nums2 = x_test.shape[0]\n",
        "tmp2 = np.reshape(x_test,(nums2,-1))"
      ],
      "metadata": {
        "id": "PcF9rhTswlCP"
      },
      "execution_count": null,
      "outputs": []
    },
    {
      "cell_type": "code",
      "source": [
        "from sklearn import svm\n",
        "clf = svm.SVC()\n",
        "clf.fit(tmp, y_train)"
      ],
      "metadata": {
        "colab": {
          "base_uri": "https://localhost:8080/"
        },
        "id": "CrZJjuqSwq_A",
        "outputId": "2e7231a6-dd9b-4169-e7aa-43a6fdcc3c6c"
      },
      "execution_count": null,
      "outputs": [
        {
          "output_type": "execute_result",
          "data": {
            "text/plain": [
              "SVC()"
            ]
          },
          "metadata": {},
          "execution_count": 17
        }
      ]
    },
    {
      "cell_type": "code",
      "source": [
        "y_pred = clf.predict(tmp2)\n",
        "y_train_pred = clf.predict(tmp)"
      ],
      "metadata": {
        "id": "IH8Cvt5mwtKm"
      },
      "execution_count": null,
      "outputs": []
    },
    {
      "cell_type": "code",
      "source": [
        "from sklearn.metrics import precision_score, recall_score, f1_score, accuracy_score\n",
        "print('########### train ############')\n",
        "print('Recall: %.3f' % recall_score(y_train, y_train_pred))\n",
        "print('Precision: %.3f' % precision_score(y_train, y_train_pred))\n",
        "print('F1 Score: %.3f' % f1_score(y_train, y_train_pred))\n",
        "\n",
        "print('########### test ############')\n",
        "print('Recall: %.3f' % recall_score(y_test, y_pred))\n",
        "print('Precision: %.3f' % precision_score(y_test, y_pred))\n",
        "print('F1 Score: %.3f' % f1_score(y_test, y_pred))"
      ],
      "metadata": {
        "id": "EilTTNUcwvxi",
        "colab": {
          "base_uri": "https://localhost:8080/"
        },
        "outputId": "dbe6de22-443b-48a6-84b2-472f4e350310"
      },
      "execution_count": null,
      "outputs": [
        {
          "output_type": "stream",
          "name": "stdout",
          "text": [
            "########### train ############\n",
            "Recall: 0.498\n",
            "Precision: 0.995\n",
            "F1 Score: 0.664\n",
            "########### test ############\n",
            "Recall: 0.478\n",
            "Precision: 0.992\n",
            "F1 Score: 0.645\n"
          ]
        }
      ]
    }
  ]
}